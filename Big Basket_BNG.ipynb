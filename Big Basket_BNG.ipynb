{
 "cells": [
  {
   "cell_type": "code",
   "execution_count": 1,
   "metadata": {},
   "outputs": [
    {
     "name": "stdout",
     "output_type": "stream",
     "text": [
      "This file does not exist and hence, writing to the database\n",
      "the no of items is 257\n",
      "[{'sku': 'Mushrooms - Button', 'quantity': '200 g ', 'price': '49', 'date': '2020-09-25', 'location': 'Bangalore', 'source': 'Big_Basket'}, {'sku': 'Sweet Corn', 'quantity': '2 pcs ', 'price': '32', 'date': '2020-09-25', 'location': 'Bangalore', 'source': 'Big_Basket'}, {'sku': 'Cucumber - English', 'quantity': '500 g ', 'price': '33', 'date': '2020-09-25', 'location': 'Bangalore', 'source': 'Big_Basket'}, {'sku': 'Avocado', 'quantity': ' 500 g  - Rs 85.001 kg  - Rs 169.00 500 g  - Rs 85.00 ', 'price': '85', 'date': '2020-09-25', 'location': 'Bangalore', 'source': 'Big_Basket'}, {'sku': 'Broccoli', 'quantity': '500 g ', 'price': '99', 'date': '2020-09-25', 'location': 'Bangalore', 'source': 'Big_Basket'}, {'sku': 'Kiwi - Green', 'quantity': '3 pcs ', 'price': '99', 'date': '2020-09-25', 'location': 'Bangalore', 'source': 'Big_Basket'}, {'sku': 'Capsicum - Red', 'quantity': ' 1 kg  - Rs 159.00500 g  - Rs 80.00 1 kg  - Rs 159.00 ', 'price': '159', 'date': '2020-09-25', 'location': 'Bangalore', 'source': 'Big_Basket'}, {'sku': 'Grapes - Bangalore Blue with Seed', 'quantity': '500 g ', 'price': '40', 'date': '2020-09-25', 'location': 'Bangalore', 'source': 'Big_Basket'}, {'sku': 'Baby Potato', 'quantity': '500 g ', 'price': '31', 'date': '2020-09-25', 'location': 'Bangalore', 'source': 'Big_Basket'}, {'sku': 'Amaranthus - Red', 'quantity': '250 g ', 'price': '20', 'date': '2020-09-25', 'location': 'Bangalore', 'source': 'Big_Basket'}, {'sku': 'Capsicum - Yellow', 'quantity': '500 g ', 'price': '80', 'date': '2020-09-25', 'location': 'Bangalore', 'source': 'Big_Basket'}, {'sku': 'Lettuce - Iceberg', 'quantity': ' 500 g  - Rs 26.001 kg  - Rs 49.00 500 g  - Rs 26.00 ', 'price': '26', 'date': '2020-09-25', 'location': 'Bangalore', 'source': 'Big_Basket'}, {'sku': 'Baby Corn - Unpeeled', 'quantity': '250 g ', 'price': '11', 'date': '2020-09-25', 'location': 'Bangalore', 'source': 'Big_Basket'}, {'sku': 'Sweet Potato - Organically Grown', 'quantity': '500 g ', 'price': '29', 'date': '2020-09-25', 'location': 'Bangalore', 'source': 'Big_Basket'}, {'sku': 'Bamboo Shoot - Fresh', 'quantity': '1 pc Approx. 90-100 gm', 'price': '90', 'date': '2020-09-25', 'location': 'Bangalore', 'source': 'Big_Basket'}, {'sku': 'Custard Apple Premium', 'quantity': '4 pcs (Approx. 800 g - 900 g)', 'price': '165', 'date': '2020-09-25', 'location': 'Bangalore', 'source': 'Big_Basket'}, {'sku': 'Fresh Figs', 'quantity': '250 g ', 'price': '39', 'date': '2020-09-25', 'location': 'Bangalore', 'source': 'Big_Basket'}, {'sku': 'Baby Corn - Peeled', 'quantity': '250 g ', 'price': '56', 'date': '2020-09-25', 'location': 'Bangalore', 'source': 'Big_Basket'}, {'sku': 'Lemon Grass', 'quantity': '100 g ', 'price': '10', 'date': '2020-09-25', 'location': 'Bangalore', 'source': 'Big_Basket'}, {'sku': 'Zucchini - Green', 'quantity': '500 g ', 'price': '50', 'date': '2020-09-25', 'location': 'Bangalore', 'source': 'Big_Basket'}, {'sku': 'Dragon Fruit', 'quantity': '1 pc 220-350g', 'price': '99', 'date': '2020-09-25', 'location': 'Bangalore', 'source': 'Big_Basket'}, {'sku': 'Mushrooms - Oyster', 'quantity': '200 g ', 'price': '59', 'date': '2020-09-25', 'location': 'Bangalore', 'source': 'Big_Basket'}, {'sku': 'Lettuce - Green', 'quantity': '70 to 100 gm (Bunch) ', 'price': '16', 'date': '2020-09-25', 'location': 'Bangalore', 'source': 'Big_Basket'}, {'sku': 'Cabbage - Red', 'quantity': '500 g ', 'price': '50', 'date': '2020-09-25', 'location': 'Bangalore', 'source': 'Big_Basket'}, {'sku': 'Celery', 'quantity': '250 g ', 'price': '25', 'date': '2020-09-25', 'location': 'Bangalore', 'source': 'Big_Basket'}, {'sku': 'Tomato - Cherry', 'quantity': '250 g ', 'price': '35', 'date': '2020-09-25', 'location': 'Bangalore', 'source': 'Big_Basket'}, {'sku': 'Passion Fruit', 'quantity': '250 g ', 'price': '110', 'date': '2020-09-25', 'location': 'Bangalore', 'source': 'Big_Basket'}, {'sku': 'Broccoli - Florets', 'quantity': '200 g ', 'price': '92', 'date': '2020-09-25', 'location': 'Bangalore', 'source': 'Big_Basket'}, {'sku': 'Aloe Vera - Organically grown', 'quantity': '1 pc ', 'price': '40', 'date': '2020-09-25', 'location': 'Bangalore', 'source': 'Big_Basket'}, {'sku': 'Asparagus', 'quantity': '250 g ', 'price': '93', 'date': '2020-09-25', 'location': 'Bangalore', 'source': 'Big_Basket'}, {'sku': 'Parsley Leaves - Curly', 'quantity': '100 g ', 'price': '14', 'date': '2020-09-25', 'location': 'Bangalore', 'source': 'Big_Basket'}, {'sku': 'Zespri Kiwi - Sun Gold', 'quantity': '3 pcs ', 'price': '119', 'date': '2020-09-25', 'location': 'Bangalore', 'source': 'Big_Basket'}, {'sku': 'Tamarind - Sweet', 'quantity': '225 g ', 'price': '99', 'date': '2020-09-25', 'location': 'Bangalore', 'source': 'Big_Basket'}, {'sku': 'Leeks', 'quantity': '100 g ', 'price': '11', 'date': '2020-09-25', 'location': 'Bangalore', 'source': 'Big_Basket'}, {'sku': 'Cucumber - White', 'quantity': '500 g ', 'price': '26', 'date': '2020-09-25', 'location': 'Bangalore', 'source': 'Big_Basket'}, {'sku': 'Chinese Cabbage', 'quantity': '1 kg ', 'price': '79', 'date': '2020-09-25', 'location': 'Bangalore', 'source': 'Big_Basket'}, {'sku': 'Pak Choi', 'quantity': '250 g ', 'price': '18', 'date': '2020-09-25', 'location': 'Bangalore', 'source': 'Big_Basket'}, {'sku': 'Lettuce - Romaine', 'quantity': '100 to 150 gm ', 'price': '15', 'date': '2020-09-25', 'location': 'Bangalore', 'source': 'Big_Basket'}, {'sku': 'Guava - Thai', 'quantity': '250 g ', 'price': '48', 'date': '2020-09-25', 'location': 'Bangalore', 'source': 'Big_Basket'}, {'sku': 'Lettuce - Red', 'quantity': '70 to 100 gm (Bunch) ', 'price': '16', 'date': '2020-09-25', 'location': 'Bangalore', 'source': 'Big_Basket'}, {'sku': 'Boiled Sweet Corn Kernel - Spice Up With Lemon And Pepper Seasoning', 'quantity': '225 g Tray', 'price': '49', 'date': '2020-09-25', 'location': 'Bangalore', 'source': 'Big_Basket'}, {'sku': 'Boiled Sweet Corn On Cob - Double', 'quantity': '2 pcs Pouch', 'price': '82', 'date': '2020-09-25', 'location': 'Bangalore', 'source': 'Big_Basket'}, {'sku': 'Boiled Kabuli Chana', 'quantity': '225 g Tray', 'price': '45', 'date': '2020-09-25', 'location': 'Bangalore', 'source': 'Big_Basket'}, {'sku': 'Boiled Sweet Corn Kernel - Spice Up With Cheese And Herbs Seasoning', 'quantity': '225 g Tray', 'price': '49', 'date': '2020-09-25', 'location': 'Bangalore', 'source': 'Big_Basket'}, {'sku': 'Boiled Sweet Corn On Cob - Single', 'quantity': '1 pc Pouch', 'price': '45', 'date': '2020-09-25', 'location': 'Bangalore', 'source': 'Big_Basket'}, {'sku': 'Boiled Sweet Corn Kernel - Spice Up With Peri-Peri Seasoning', 'quantity': '225 g Tray', 'price': '49', 'date': '2020-09-25', 'location': 'Bangalore', 'source': 'Big_Basket'}, {'sku': 'Boiled Rajma', 'quantity': '225 g Tray', 'price': '45', 'date': '2020-09-25', 'location': 'Bangalore', 'source': 'Big_Basket'}, {'sku': 'Grape fruit - Imported', 'quantity': '1 pc (Approx. 200 g -  300 g)', 'price': '90', 'date': '2020-09-25', 'location': 'Bangalore', 'source': 'Big_Basket'}, {'sku': 'Baby Spinach', 'quantity': '100 g ', 'price': '90', 'date': '2020-09-25', 'location': 'Bangalore', 'source': 'Big_Basket'}, {'sku': 'Dill Leaves', 'quantity': '250 g ', 'price': '25', 'date': '2020-09-25', 'location': 'Bangalore', 'source': 'Big_Basket'}, {'sku': 'Boiled Sweet Corn Kernel - Spice Up With Chat Masala Seasoning', 'quantity': '225 g Tray', 'price': '49', 'date': '2020-09-25', 'location': 'Bangalore', 'source': 'Big_Basket'}, {'sku': 'Thai Mix', 'quantity': '1 pc ', 'price': '100', 'date': '2020-09-25', 'location': 'Bangalore', 'source': 'Big_Basket'}, {'sku': 'Thyme', 'quantity': '10 g ', 'price': '26', 'date': '2020-09-25', 'location': 'Bangalore', 'source': 'Big_Basket'}, {'sku': 'Blueberry', 'quantity': '125 g ', 'price': '339', 'date': '2020-09-25', 'location': 'Bangalore', 'source': 'Big_Basket'}, {'sku': 'Rosemary', 'quantity': '10 g ', 'price': '26', 'date': '2020-09-25', 'location': 'Bangalore', 'source': 'Big_Basket'}, {'sku': 'Wheat Grass - Organically Grown', 'quantity': '20 g ', 'price': '29', 'date': '2020-09-25', 'location': 'Bangalore', 'source': 'Big_Basket'}, {'sku': 'Soursop', 'quantity': '1 pc 400 - 800g', 'price': '140', 'date': '2020-09-25', 'location': 'Bangalore', 'source': 'Big_Basket'}, {'sku': 'Cut - Mushroom', 'quantity': '100 g ', 'price': '48', 'date': '2020-09-25', 'location': 'Bangalore', 'source': 'Big_Basket'}, {'sku': 'Avocado - Imported Medium', 'quantity': '1 pc ', 'price': '249', 'date': '2020-09-25', 'location': 'Bangalore', 'source': 'Big_Basket'}, {'sku': 'Himalayan Chestnuts', 'quantity': ' 1 kg  - Rs 539.00250 g  - Rs 136.00 1 kg  - Rs 539.00 ', 'price': '539', 'date': '2020-09-25', 'location': 'Bangalore', 'source': 'Big_Basket'}, {'sku': 'Persimmon', 'quantity': '500 g ', 'price': '129', 'date': '2020-09-25', 'location': 'Bangalore', 'source': 'Big_Basket'}, {'sku': 'Potato - Wedges', 'quantity': '250 g ', 'price': '27', 'date': '2020-09-25', 'location': 'Bangalore', 'source': 'Big_Basket'}, {'sku': 'Sweet Corn', 'quantity': '1 pc ', 'price': '40', 'date': '2020-09-25', 'location': 'Bangalore', 'source': 'Big_Basket'}, {'sku': 'Ber - Apple', 'quantity': '500 g ', 'price': '30', 'date': '2020-09-25', 'location': 'Bangalore', 'source': 'Big_Basket'}, {'sku': 'Kernels Peri Peri Masala', 'quantity': '150 g ', 'price': '55', 'date': '2020-09-25', 'location': 'Bangalore', 'source': 'Big_Basket'}, {'sku': 'Bamboo Shoot - Brine', 'quantity': '1 pc Approx. 90-100 gm', 'price': '99', 'date': '2020-09-25', 'location': 'Bangalore', 'source': 'Big_Basket'}, {'sku': 'Zucchini - Yellow', 'quantity': ' 500 g  - Rs 59.00250 g  - Rs 30.00 500 g  - Rs 59.00 ', 'price': '59', 'date': '2020-09-25', 'location': 'Bangalore', 'source': 'Big_Basket'}, {'sku': 'Sweet Corn Kernels', 'quantity': '200 g ', 'price': '50', 'date': '2020-09-25', 'location': 'Bangalore', 'source': 'Big_Basket'}, {'sku': 'Sweet Corn Kernels', 'quantity': '725 g ', 'price': '100', 'date': '2020-09-25', 'location': 'Bangalore', 'source': 'Big_Basket'}, {'sku': 'Oregano', 'quantity': '10 g ', 'price': '19', 'date': '2020-09-25', 'location': 'Bangalore', 'source': 'Big_Basket'}, {'sku': 'Sage', 'quantity': '10 g ', 'price': '10', 'date': '2020-09-25', 'location': 'Bangalore', 'source': 'Big_Basket'}, {'sku': 'Brussel Sprouts', 'quantity': '250 g ', 'price': '159', 'date': '2020-09-25', 'location': 'Bangalore', 'source': 'Big_Basket'}, {'sku': 'Banana - Yelakki', 'quantity': ' 1 kg  - Rs 89.00500 g  - Rs 45.00 1 kg  - Rs 89.00 ', 'price': '89', 'date': '2020-09-25', 'location': 'Bangalore', 'source': 'Big_Basket'}, {'sku': 'Coconut - Medium', 'quantity': '1 pc ', 'price': '26', 'date': '2020-09-25', 'location': 'Bangalore', 'source': 'Big_Basket'}, {'sku': 'Tender Coconut - Medium', 'quantity': ' 1 pc  - Rs41.00', 'price': '41', 'date': '2020-09-25', 'location': 'Bangalore', 'source': 'Big_Basket'}, {'sku': 'Pomegranate', 'quantity': ' 4 pcs (approx. 720 to 800 gm) - Rs 159.006 pcs (approx. 1080 g to 1200 g) - Rs 199.00 4 pcs (approx. 720 to 800 gm) - Rs 159.00 ', 'price': '159', 'date': '2020-09-25', 'location': 'Bangalore', 'source': 'Big_Basket'}, {'sku': 'Watermelon  - Small', 'quantity': ' 1 pc 1.7 - 2.5 kg - Rs 67.361 pc 2.8 - 4 kg - Rs 119.00 1 pc 1.7 - 2.5 kg - Rs 67.36 + 2  More Combos', 'price': '67.36', 'date': '2020-09-25', 'location': 'Bangalore', 'source': 'Big_Basket'}, {'sku': 'Banana - Robusta', 'quantity': ' 1 kg  - Rs24.00', 'price': '24', 'date': '2020-09-25', 'location': 'Bangalore', 'source': 'Big_Basket'}, {'sku': 'Apple - Red Delicious/Washington Regular', 'quantity': '4 pcs (Approx. 530g - 640g)', 'price': '199', 'date': '2020-09-25', 'location': 'Bangalore', 'source': 'Big_Basket'}, {'sku': 'Apple - Shimla', 'quantity': ' 4 pcs (Approx. 500g-  650g) - Rs67.12', 'price': '67.12', 'date': '2020-09-25', 'location': 'Bangalore', 'source': 'Big_Basket'}, {'sku': 'Raw Mango', 'quantity': '500 g ', 'price': '60', 'date': '2020-09-25', 'location': 'Bangalore', 'source': 'Big_Basket'}, {'sku': 'Papaya - Medium', 'quantity': ' 1 pc 1 kg - 1.5 kg - Rs32.00', 'price': '32', 'date': '2020-09-25', 'location': 'Bangalore', 'source': 'Big_Basket'}, {'sku': 'Avocado', 'quantity': ' 500 g  - Rs 85.001 kg  - Rs 169.00 500 g  - Rs 85.00 ', 'price': '85', 'date': '2020-09-25', 'location': 'Bangalore', 'source': 'Big_Basket'}, {'sku': 'Banana - Nendran', 'quantity': '1 kg ', 'price': '69', 'date': '2020-09-25', 'location': 'Bangalore', 'source': 'Big_Basket'}, {'sku': 'Guava', 'quantity': '500 g ', 'price': '29.21', 'date': '2020-09-25', 'location': 'Bangalore', 'source': 'Big_Basket'}, {'sku': 'Sapota', 'quantity': '500 g ', 'price': '35', 'date': '2020-09-25', 'location': 'Bangalore', 'source': 'Big_Basket'}, {'sku': 'Pear - Green Imported', 'quantity': ' 4 pcs  - Rs 165.002 pcs  - Rs 79.00 4 pcs  - Rs 165.00 ', 'price': '165', 'date': '2020-09-25', 'location': 'Bangalore', 'source': 'Big_Basket'}, {'sku': 'Orange - Imported', 'quantity': ' 6 pcs  - Rs 229.004 pcs  - Rs 179.00 6 pcs  - Rs 229.00 ', 'price': '229', 'date': '2020-09-25', 'location': 'Bangalore', 'source': 'Big_Basket'}, {'sku': 'Apple - Royal Gala Regular', 'quantity': '4 pcs (Approx. 450g-490g)', 'price': '215', 'date': '2020-09-25', 'location': 'Bangalore', 'source': 'Big_Basket'}, {'sku': 'Apple Shimla + Banana Robusta + Orange Nagpur+ Tender Coconut+ Watermelon Small', 'quantity': 'Combo 5 Items', 'price': '278.48', 'date': '2020-09-25', 'location': 'Bangalore', 'source': 'Big_Basket'}, {'sku': 'Apple Shimla 4 pcs + Banana Robusta 1 kg + Watermelon Small + Papaya Medium 1 pc', 'quantity': 'Combo 4 Items', 'price': '190.48', 'date': '2020-09-25', 'location': 'Bangalore', 'source': 'Big_Basket'}, {'sku': 'Kiwi - Green', 'quantity': '3 pcs ', 'price': '99', 'date': '2020-09-25', 'location': 'Bangalore', 'source': 'Big_Basket'}, {'sku': 'Mosambi - Economy', 'quantity': '3 kg ', 'price': '115', 'date': '2020-09-25', 'location': 'Bangalore', 'source': 'Big_Basket'}, {'sku': 'Coconut - Organically Grown', 'quantity': '1 pc ', 'price': '28', 'date': '2020-09-25', 'location': 'Bangalore', 'source': 'Big_Basket'}, {'sku': 'Apple - Fuji Regular', 'quantity': '4 pcs ', 'price': '189', 'date': '2020-09-25', 'location': 'Bangalore', 'source': 'Big_Basket'}, {'sku': 'Pomegranate - Small', 'quantity': '1 kg ', 'price': '129', 'date': '2020-09-25', 'location': 'Bangalore', 'source': 'Big_Basket'}, {'sku': 'Mosambi', 'quantity': ' 6 pcs 800 gm - 1 kg - Rs 59.004 pcs 700-900g - Rs 49.00 6 pcs 800 gm - 1 kg - Rs 59.00 ', 'price': '59', 'date': '2020-09-25', 'location': 'Bangalore', 'source': 'Big_Basket'}, {'sku': 'Grapes - Bangalore Blue with Seed', 'quantity': '500 g ', 'price': '40', 'date': '2020-09-25', 'location': 'Bangalore', 'source': 'Big_Basket'}, {'sku': 'Papaya - Small', 'quantity': '1 pc 500 g - 900 g', 'price': '20', 'date': '2020-09-25', 'location': 'Bangalore', 'source': 'Big_Basket'}, {'sku': 'Totapuri Mango', 'quantity': '500 gm ', 'price': '75', 'date': '2020-09-25', 'location': 'Bangalore', 'source': 'Big_Basket'}, {'sku': 'Banana - Raw Green', 'quantity': '500 g ', 'price': '22', 'date': '2020-09-25', 'location': 'Bangalore', 'source': 'Big_Basket'}, {'sku': 'Baby Apple Shimla', 'quantity': '1 kg (Approx. 10 - 12 pcs)', 'price': '115', 'date': '2020-09-25', 'location': 'Bangalore', 'source': 'Big_Basket'}, {'sku': 'Apple - Royal Gala Economy', 'quantity': '4 pcs 450g-490g', 'price': '116.15', 'date': '2020-09-25', 'location': 'Bangalore', 'source': 'Big_Basket'}, {'sku': 'Kiwi - Green', 'quantity': '400 g (approx. 4 - 6 pcs)', 'price': '139', 'date': '2020-09-25', 'location': 'Bangalore', 'source': 'Big_Basket'}, {'sku': 'Pineapple', 'quantity': '1 pc 750-800', 'price': '50', 'date': '2020-09-25', 'location': 'Bangalore', 'source': 'Big_Basket'}, {'sku': 'Dates - Kimia with Seed', 'quantity': '1 pc (Approx. 400g - 500g)', 'price': '199', 'date': '2020-09-25', 'location': 'Bangalore', 'source': 'Big_Basket'}, {'sku': 'Mosambi - Premium', 'quantity': '4 pcs 900-1 kg', 'price': '44', 'date': '2020-09-25', 'location': 'Bangalore', 'source': 'Big_Basket'}, {'sku': 'Watermelon - Organically Grown', 'quantity': '1 pc 1.5 - 2.5 kg', 'price': '99', 'date': '2020-09-25', 'location': 'Bangalore', 'source': 'Big_Basket'}, {'sku': 'Apple - Shimla Premium', 'quantity': '4 pcs (Approx. 700 g - 900 g)', 'price': '129', 'date': '2020-09-25', 'location': 'Bangalore', 'source': 'Big_Basket'}, {'sku': 'Tender Coconut - Small', 'quantity': '1 pc ', 'price': '40', 'date': '2020-09-25', 'location': 'Bangalore', 'source': 'Big_Basket'}, {'sku': 'Apple - Green Premium', 'quantity': '4 pcs ', 'price': '219', 'date': '2020-09-25', 'location': 'Bangalore', 'source': 'Big_Basket'}, {'sku': 'Muskmelon - Organically Grown', 'quantity': '1 pc (Approx. 600 g-1 kg)', 'price': '55', 'date': '2020-09-25', 'location': 'Bangalore', 'source': 'Big_Basket'}, {'sku': 'Orange - Nagpur Regular', 'quantity': ' 500 g  - Rs 40.001 kg  - Rs 79.00 500 g  - Rs 40.00 + 1  More Combo', 'price': '40', 'date': '2020-09-25', 'location': 'Bangalore', 'source': 'Big_Basket'}, {'sku': 'Muskmelon -  Netted Small', 'quantity': '1 pc 550g-900g', 'price': '45', 'date': '2020-09-25', 'location': 'Bangalore', 'source': 'Big_Basket'}, {'sku': 'Banana - Red', 'quantity': '500 g ', 'price': '38', 'date': '2020-09-25', 'location': 'Bangalore', 'source': 'Big_Basket'}, {'sku': 'Apple - Royal Gala Premium', 'quantity': '4 pcs(Approx.600 g-700 g) ', 'price': '209', 'date': '2020-09-25', 'location': 'Bangalore', 'source': 'Big_Basket'}, {'sku': 'Fresh Figs', 'quantity': '250 g ', 'price': '39', 'date': '2020-09-25', 'location': 'Bangalore', 'source': 'Big_Basket'}, {'sku': 'Baby Banana - Robusta', 'quantity': '1 kg ', 'price': '18', 'date': '2020-09-25', 'location': 'Bangalore', 'source': 'Big_Basket'}, {'sku': 'Coconut - Diced', 'quantity': '150 g ', 'price': '34', 'date': '2020-09-25', 'location': 'Bangalore', 'source': 'Big_Basket'}, {'sku': 'Apricot - Dried', 'quantity': '200 g ', 'price': '139', 'date': '2020-09-25', 'location': 'Bangalore', 'source': 'Big_Basket'}, {'sku': 'Apple - Red Delicious/Washington Premium', 'quantity': '4 pcs (Approx. 600g -700g)', 'price': '215', 'date': '2020-09-25', 'location': 'Bangalore', 'source': 'Big_Basket'}, {'sku': 'Apple - Fuji Premium', 'quantity': '4 pcs ', 'price': '209', 'date': '2020-09-25', 'location': 'Bangalore', 'source': 'Big_Basket'}, {'sku': 'Plum - Imported', 'quantity': '500 g ', 'price': '139', 'date': '2020-09-25', 'location': 'Bangalore', 'source': 'Big_Basket'}, {'sku': 'Dragon Fruit', 'quantity': '1 pc 220-350g', 'price': '99', 'date': '2020-09-25', 'location': 'Bangalore', 'source': 'Big_Basket'}, {'sku': 'Pineapple - Slices', 'quantity': '200 g ', 'price': '57', 'date': '2020-09-25', 'location': 'Bangalore', 'source': 'Big_Basket'}, {'sku': 'Banana Stem', 'quantity': '1 pc ', 'price': '17', 'date': '2020-09-25', 'location': 'Bangalore', 'source': 'Big_Basket'}, {'sku': 'Sugarcane - Diced', 'quantity': '200 g ', 'price': '13', 'date': '2020-09-25', 'location': 'Bangalore', 'source': 'Big_Basket'}, {'sku': 'Pineapple - Organically Grown', 'quantity': '1 pc 750-800', 'price': '56', 'date': '2020-09-25', 'location': 'Bangalore', 'source': 'Big_Basket'}, {'sku': 'Zespri Kiwi - Sun Gold', 'quantity': '3 pcs ', 'price': '119', 'date': '2020-09-25', 'location': 'Bangalore', 'source': 'Big_Basket'}, {'sku': 'Tamarind - Sweet', 'quantity': '225 g ', 'price': '99', 'date': '2020-09-25', 'location': 'Bangalore', 'source': 'Big_Basket'}, {'sku': 'Pomegranate - Peeled', 'quantity': ' 200 g  - Rs 83.00500 g  - Rs 206.00 200 g  - Rs 83.00 ', 'price': '83', 'date': '2020-09-25', 'location': 'Bangalore', 'source': 'Big_Basket'}, {'sku': 'Papaya- Diced', 'quantity': '200 g ', 'price': '15', 'date': '2020-09-25', 'location': 'Bangalore', 'source': 'Big_Basket'}, {'sku': 'Muskmelon - Diced', 'quantity': '200 g ', 'price': '44', 'date': '2020-09-25', 'location': 'Bangalore', 'source': 'Big_Basket'}, {'sku': 'Pineapple - Chunks Single Serve', 'quantity': '80 g ', 'price': '29', 'date': '2020-09-25', 'location': 'Bangalore', 'source': 'Big_Basket'}, {'sku': 'Grape Fruit - Indian', 'quantity': '1 pc 300gm-500gm', 'price': '76', 'date': '2020-09-25', 'location': 'Bangalore', 'source': 'Big_Basket'}, {'sku': 'Kiwi - Dried', 'quantity': '200 g ', 'price': '149', 'date': '2020-09-25', 'location': 'Bangalore', 'source': 'Big_Basket'}, {'sku': 'Pomegranate - Organically Grown', 'quantity': '500 g ', 'price': '109', 'date': '2020-09-25', 'location': 'Bangalore', 'source': 'Big_Basket'}, {'sku': 'Guava - Thai', 'quantity': '250 g ', 'price': '48', 'date': '2020-09-25', 'location': 'Bangalore', 'source': 'Big_Basket'}, {'sku': 'Papaya - Organically Grown', 'quantity': '1 pc ', 'price': '30', 'date': '2020-09-25', 'location': 'Bangalore', 'source': 'Big_Basket'}, {'sku': 'Banana - Yellaki Organically Grown', 'quantity': '500 g ', 'price': '49', 'date': '2020-09-25', 'location': 'Bangalore', 'source': 'Big_Basket'}, {'sku': 'Coconut Chunks - Single Serve', 'quantity': '80 g ', 'price': '20', 'date': '2020-09-25', 'location': 'Bangalore', 'source': 'Big_Basket'}, {'sku': 'Pomegranate - Single Serve Peeled', 'quantity': '80 g ', 'price': '43', 'date': '2020-09-25', 'location': 'Bangalore', 'source': 'Big_Basket'}, {'sku': 'Sweet Lime - Organically Grown', 'quantity': '500 g ', 'price': '45', 'date': '2020-09-25', 'location': 'Bangalore', 'source': 'Big_Basket'}, {'sku': 'Sapota - Organically Grown', 'quantity': '500 g ', 'price': '40', 'date': '2020-09-25', 'location': 'Bangalore', 'source': 'Big_Basket'}, {'sku': 'Apple - Red Delicious Organically Grown', 'quantity': '4 pcs ', 'price': '139', 'date': '2020-09-25', 'location': 'Bangalore', 'source': 'Big_Basket'}, {'sku': 'Cut Indian Fruit Pack', 'quantity': '400 g ', 'price': '76', 'date': '2020-09-25', 'location': 'Bangalore', 'source': 'Big_Basket'}, {'sku': 'Pomegranate - Premium', 'quantity': '4 pcs ', 'price': '169', 'date': '2020-09-25', 'location': 'Bangalore', 'source': 'Big_Basket'}, {'sku': 'Pomelo - Peeled', 'quantity': '200 g ', 'price': '105', 'date': '2020-09-25', 'location': 'Bangalore', 'source': 'Big_Basket'}, {'sku': 'Sugarcane', 'quantity': '1 pc ', 'price': '7', 'date': '2020-09-25', 'location': 'Bangalore', 'source': 'Big_Basket'}, {'sku': 'Wood Apple', 'quantity': '1 pc ', 'price': '12', 'date': '2020-09-25', 'location': 'Bangalore', 'source': 'Big_Basket'}, {'sku': 'Grape fruit - Imported', 'quantity': '1 pc (Approx. 200 g -  300 g)', 'price': '90', 'date': '2020-09-25', 'location': 'Bangalore', 'source': 'Big_Basket'}, {'sku': 'Banana - Poovan', 'quantity': '500 g ', 'price': '16', 'date': '2020-09-25', 'location': 'Bangalore', 'source': 'Big_Basket'}, {'sku': 'Onion', 'quantity': ' 1 kg  - Rs42.00', 'price': '42', 'date': '2020-09-25', 'location': 'Bangalore', 'source': 'Big_Basket'}, {'sku': 'Potato', 'quantity': ' 1 kg  - Rs45.00', 'price': '45', 'date': '2020-09-25', 'location': 'Bangalore', 'source': 'Big_Basket'}, {'sku': 'Carrot - Local', 'quantity': ' 500 g  - Rs76.00', 'price': '76', 'date': '2020-09-25', 'location': 'Bangalore', 'source': 'Big_Basket'}, {'sku': 'Ladies Finger', 'quantity': ' 500 g  - Rs28.71', 'price': '28.71', 'date': '2020-09-25', 'location': 'Bangalore', 'source': 'Big_Basket'}, {'sku': 'Palak', 'quantity': ' 100 g  - Rs 10.00250 g  - Rs 23.00 100 g  - Rs 10.00 + 2  More Combos', 'price': '10', 'date': '2020-09-25', 'location': 'Bangalore', 'source': 'Big_Basket'}, {'sku': 'Potato Onion Tomato 1 kg Each', 'quantity': 'Combo 3 Items', 'price': '123', 'date': '2020-09-25', 'location': 'Bangalore', 'source': 'Big_Basket'}, {'sku': 'Tomato - Hybrid', 'quantity': ' 500 g  - Rs 18.001 kg  - Rs 36.00 500 g  - Rs 18.00 + 1  More Combo', 'price': '18', 'date': '2020-09-25', 'location': 'Bangalore', 'source': 'Big_Basket'}, {'sku': 'Cauliflower', 'quantity': ' 1 pc (approx. 400 to 600 g) - Rs40.00', 'price': '40', 'date': '2020-09-25', 'location': 'Bangalore', 'source': 'Big_Basket'}, {'sku': 'Mushrooms - Button', 'quantity': '200 g ', 'price': '49', 'date': '2020-09-25', 'location': 'Bangalore', 'source': 'Big_Basket'}, {'sku': 'Capsicum - Green', 'quantity': ' 500 g  - Rs22.77', 'price': '22.77', 'date': '2020-09-25', 'location': 'Bangalore', 'source': 'Big_Basket'}, {'sku': 'Tomato - Local Organically Grown', 'quantity': '500 g ', 'price': '20', 'date': '2020-09-25', 'location': 'Bangalore', 'source': 'Big_Basket'}, {'sku': 'Tomato - Local', 'quantity': ' 1 kg  - Rs 36.001 kg  - Rs 36.00 500 g  - Rs 18.50 ', 'price': '36', 'date': '2020-09-25', 'location': 'Bangalore', 'source': 'Big_Basket'}, {'sku': 'Cucumber', 'quantity': ' 500 g  - Rs 20.001 kg  - Rs 40.00 500 g  - Rs 20.00 ', 'price': '20', 'date': '2020-09-25', 'location': 'Bangalore', 'source': 'Big_Basket'}, {'sku': 'Beetroot', 'quantity': ' 500 g  - Rs 19.80500 g  - Rs 19.80 250 g  - Rs 16.50 ', 'price': '19.80', 'date': '2020-09-25', 'location': 'Bangalore', 'source': 'Big_Basket'}, {'sku': 'Cabbage', 'quantity': ' 1 pc (approx. 500 g to 800 g) - Rs35.00', 'price': '35', 'date': '2020-09-25', 'location': 'Bangalore', 'source': 'Big_Basket'}, {'sku': 'Beans - Haricot', 'quantity': ' 250 g  - Rs 35.001 kg  - Rs 139.00 500 g  - Rs 69.00 250 g  - Rs 35.00 ', 'price': '35', 'date': '2020-09-25', 'location': 'Bangalore', 'source': 'Big_Basket'}, {'sku': 'Sweet Corn', 'quantity': '2 pcs ', 'price': '32', 'date': '2020-09-25', 'location': 'Bangalore', 'source': 'Big_Basket'}, {'sku': 'Methi/Venthaya Keerai', 'quantity': ' 100 g  - Rs 15.00250 g  - Rs 38.00 100 g  - Rs 15.00 + 1  More Combo', 'price': '15', 'date': '2020-09-25', 'location': 'Bangalore', 'source': 'Big_Basket'}, {'sku': 'Onion - Organically Grown', 'quantity': '1 kg ', 'price': '60', 'date': '2020-09-25', 'location': 'Bangalore', 'source': 'Big_Basket'}, {'sku': 'Brinjal - Bottle Shape', 'quantity': ' 500 g  - Rs22.28', 'price': '22.28', 'date': '2020-09-25', 'location': 'Bangalore', 'source': 'Big_Basket'}, {'sku': 'Cucumber - English', 'quantity': '500 g ', 'price': '33', 'date': '2020-09-25', 'location': 'Bangalore', 'source': 'Big_Basket'}, {'sku': 'Ridge Gourd', 'quantity': ' 1 kg  - Rs 59.00500 g  - Rs 38.00 1 kg  - Rs 59.00 ', 'price': '59', 'date': '2020-09-25', 'location': 'Bangalore', 'source': 'Big_Basket'}, {'sku': 'Mint Leaves', 'quantity': '100 g ', 'price': '10', 'date': '2020-09-25', 'location': 'Bangalore', 'source': 'Big_Basket'}, {'sku': 'Ladies Finger + Beans French Ring + Carrot Local + Capsicum Green (500 g each)', 'quantity': 'Combo 4 Items', 'price': '187.48', 'date': '2020-09-25', 'location': 'Bangalore', 'source': 'Big_Basket'}, {'sku': 'Broccoli', 'quantity': '500 g ', 'price': '99', 'date': '2020-09-25', 'location': 'Bangalore', 'source': 'Big_Basket'}, {'sku': 'Spring Onion', 'quantity': '100 g ', 'price': '13', 'date': '2020-09-25', 'location': 'Bangalore', 'source': 'Big_Basket'}, {'sku': 'Radish - White', 'quantity': '500 g ', 'price': '20', 'date': '2020-09-25', 'location': 'Bangalore', 'source': 'Big_Basket'}, {'sku': 'Methi 250 g + Coriander Leaves 100 g + Palak 250 g + Curry Leaves 100 g', 'quantity': 'Combo 4 Items', 'price': '82', 'date': '2020-09-25', 'location': 'Bangalore', 'source': 'Big_Basket'}, {'sku': 'Drumstick/Moringa', 'quantity': '250 g ', 'price': '38', 'date': '2020-09-25', 'location': 'Bangalore', 'source': 'Big_Basket'}, {'sku': 'Brinjal Bottle Shape 500 g + Cauliflower 1 pc + Cabbage 1 pc', 'quantity': 'Combo 3 Items', 'price': '97.28', 'date': '2020-09-25', 'location': 'Bangalore', 'source': 'Big_Basket'}, {'sku': 'Amla', 'quantity': ' 100 g  - Rs 10.00250 g  - Rs 25.00 100 g  - Rs 10.00 ', 'price': '10', 'date': '2020-09-25', 'location': 'Bangalore', 'source': 'Big_Basket'}, {'sku': 'Onion - Sambhar', 'quantity': '250 g ', 'price': '18.32', 'date': '2020-09-25', 'location': 'Bangalore', 'source': 'Big_Basket'}, {'sku': 'Carrot - Ooty', 'quantity': '500 g ', 'price': '78', 'date': '2020-09-25', 'location': 'Bangalore', 'source': 'Big_Basket'}, {'sku': 'Fresho Palak Without Root 250Gm + Gowardhan Fresh Paneer Classic Block 200Gm', 'quantity': 'Combo (2 Items)', 'price': '101', 'date': '2020-09-25', 'location': 'Bangalore', 'source': 'Big_Basket'}, {'sku': 'Sweet Potato', 'quantity': ' 500 g  - Rs 26.001 kg  - Rs 49.00 500 g  - Rs 26.00 ', 'price': '26', 'date': '2020-09-25', 'location': 'Bangalore', 'source': 'Big_Basket'}, {'sku': 'Coccinia', 'quantity': '500 g ', 'price': '35', 'date': '2020-09-25', 'location': 'Bangalore', 'source': 'Big_Basket'}, {'sku': 'Bitter Gourd', 'quantity': '500 g ', 'price': '19.80', 'date': '2020-09-25', 'location': 'Bangalore', 'source': 'Big_Basket'}, {'sku': 'Bottle Gourd', 'quantity': '1 pc (Approx. 500 g - 800 g)', 'price': '23.17', 'date': '2020-09-25', 'location': 'Bangalore', 'source': 'Big_Basket'}, {'sku': 'Beans - French Round', 'quantity': '250 g ', 'price': '36', 'date': '2020-09-25', 'location': 'Bangalore', 'source': 'Big_Basket'}, {'sku': 'Colocasia', 'quantity': ' 250 g  - Rs 15.001 kg  - Rs 59.00 250 g  - Rs 15.00 ', 'price': '15', 'date': '2020-09-25', 'location': 'Bangalore', 'source': 'Big_Basket'}, {'sku': 'Brinjal - Varikatri', 'quantity': '500 g ', 'price': '13.86', 'date': '2020-09-25', 'location': 'Bangalore', 'source': 'Big_Basket'}, {'sku': 'Beans - Cluster', 'quantity': '250 g ', 'price': '14', 'date': '2020-09-25', 'location': 'Bangalore', 'source': 'Big_Basket'}, {'sku': 'Bottle Gourd - Organically Grown', 'quantity': '1 pc ', 'price': '36', 'date': '2020-09-25', 'location': 'Bangalore', 'source': 'Big_Basket'}, {'sku': 'Beans - Cowpea', 'quantity': ' 500 g  - Rs 49.00250 g  - Rs 25.00 500 g  - Rs 49.00 ', 'price': '49', 'date': '2020-09-25', 'location': 'Bangalore', 'source': 'Big_Basket'}, {'sku': 'Cucumber - Organically Grown', 'quantity': '500 g ', 'price': '28', 'date': '2020-09-25', 'location': 'Bangalore', 'source': 'Big_Basket'}, {'sku': 'Capsicum - Red', 'quantity': ' 1 kg  - Rs 159.00500 g  - Rs 80.00 1 kg  - Rs 159.00 ', 'price': '159', 'date': '2020-09-25', 'location': 'Bangalore', 'source': 'Big_Basket'}, {'sku': 'Beans - Broad', 'quantity': '500 g ', 'price': '49', 'date': '2020-09-25', 'location': 'Bangalore', 'source': 'Big_Basket'}, {'sku': 'Chow Chow', 'quantity': '500 g ', 'price': '8.91', 'date': '2020-09-25', 'location': 'Bangalore', 'source': 'Big_Basket'}, {'sku': 'Parwal', 'quantity': '500 g ', 'price': '86', 'date': '2020-09-25', 'location': 'Bangalore', 'source': 'Big_Basket'}, {'sku': 'Baby Potato', 'quantity': '500 g ', 'price': '31', 'date': '2020-09-25', 'location': 'Bangalore', 'source': 'Big_Basket'}, {'sku': 'Amaranthus - Red', 'quantity': '250 g ', 'price': '20', 'date': '2020-09-25', 'location': 'Bangalore', 'source': 'Big_Basket'}, {'sku': 'Tomato - Hybrid Organically Grown', 'quantity': '1 kg ', 'price': '41', 'date': '2020-09-25', 'location': 'Bangalore', 'source': 'Big_Basket'}, {'sku': 'Capsicum - Yellow', 'quantity': '500 g ', 'price': '80', 'date': '2020-09-25', 'location': 'Bangalore', 'source': 'Big_Basket'}, {'sku': 'Ladies Finger - Organically Grown', 'quantity': '500 g ', 'price': '40', 'date': '2020-09-25', 'location': 'Bangalore', 'source': 'Big_Basket'}, {'sku': 'Basale Leaf', 'quantity': '250 g ', 'price': '10', 'date': '2020-09-25', 'location': 'Bangalore', 'source': 'Big_Basket'}, {'sku': 'Coccinia - Organically Grown', 'quantity': '250 g ', 'price': '24', 'date': '2020-09-25', 'location': 'Bangalore', 'source': 'Big_Basket'}, {'sku': 'Papaya - Raw', 'quantity': '1 kg ', 'price': '25', 'date': '2020-09-25', 'location': 'Bangalore', 'source': 'Big_Basket'}, {'sku': 'Lettuce - Iceberg', 'quantity': ' 500 g  - Rs 26.001 kg  - Rs 49.00 500 g  - Rs 26.00 ', 'price': '26', 'date': '2020-09-25', 'location': 'Bangalore', 'source': 'Big_Basket'}, {'sku': 'Cucumber - Mangalore', 'quantity': '1 kg ', 'price': '15.84', 'date': '2020-09-25', 'location': 'Bangalore', 'source': 'Big_Basket'}, {'sku': 'Pumpkin - Disco', 'quantity': '1 kg ', 'price': '39', 'date': '2020-09-25', 'location': 'Bangalore', 'source': 'Big_Basket'}, {'sku': 'Baby Corn - Unpeeled', 'quantity': '250 g ', 'price': '11', 'date': '2020-09-25', 'location': 'Bangalore', 'source': 'Big_Basket'}, {'sku': 'Brinjal - Green Long', 'quantity': '500 g ', 'price': '22', 'date': '2020-09-25', 'location': 'Bangalore', 'source': 'Big_Basket'}, {'sku': 'Beans - Organically Grown', 'quantity': '500 g ', 'price': '60', 'date': '2020-09-25', 'location': 'Bangalore', 'source': 'Big_Basket'}, {'sku': 'Banana Flower - Organically Grown', 'quantity': '1 pc ', 'price': '19', 'date': '2020-09-25', 'location': 'Bangalore', 'source': 'Big_Basket'}, {'sku': 'Sprouts - Mixed Gram', 'quantity': '200 g ', 'price': '25', 'date': '2020-09-25', 'location': 'Bangalore', 'source': 'Big_Basket'}, {'sku': 'Green Amaranthus/Ari Keerai', 'quantity': '250 g ', 'price': '20', 'date': '2020-09-25', 'location': 'Bangalore', 'source': 'Big_Basket'}, {'sku': 'Banana Stem - Organically Grown', 'quantity': '1 pc ', 'price': '18', 'date': '2020-09-25', 'location': 'Bangalore', 'source': 'Big_Basket'}, {'sku': 'Yam - Cut', 'quantity': ' 250 g  - Rs 25.00500 g  - Rs 43.00 250 g  - Rs 25.00 ', 'price': '25', 'date': '2020-09-25', 'location': 'Bangalore', 'source': 'Big_Basket'}, {'sku': 'Pumpkin Green - Cut', 'quantity': ' 500 g  - Rs 39.00250 g  - Rs 21.00 500 g  - Rs 39.00 ', 'price': '39', 'date': '2020-09-25', 'location': 'Bangalore', 'source': 'Big_Basket'}, {'sku': 'Knol Khol', 'quantity': '500 g ', 'price': '29', 'date': '2020-09-25', 'location': 'Bangalore', 'source': 'Big_Basket'}, {'sku': 'Bitter Gourd - Organically Grown', 'quantity': '250 g ', 'price': '18', 'date': '2020-09-25', 'location': 'Bangalore', 'source': 'Big_Basket'}, {'sku': 'Snake Gourd', 'quantity': '500 g ', 'price': '16', 'date': '2020-09-25', 'location': 'Bangalore', 'source': 'Big_Basket'}, {'sku': 'Zucchini - Green', 'quantity': '500 g ', 'price': '50', 'date': '2020-09-25', 'location': 'Bangalore', 'source': 'Big_Basket'}, {'sku': 'Mushrooms - Oyster', 'quantity': '200 g ', 'price': '59', 'date': '2020-09-25', 'location': 'Bangalore', 'source': 'Big_Basket'}, {'sku': 'Lettuce - Green', 'quantity': '70 to 100 gm (Bunch) ', 'price': '16', 'date': '2020-09-25', 'location': 'Bangalore', 'source': 'Big_Basket'}, {'sku': 'Cabbage - Red', 'quantity': '500 g ', 'price': '50', 'date': '2020-09-25', 'location': 'Bangalore', 'source': 'Big_Basket'}, {'sku': 'Cucumber - Malabar Organically Grown', 'quantity': '1 kg ', 'price': '32', 'date': '2020-09-25', 'location': 'Bangalore', 'source': 'Big_Basket'}, {'sku': 'Sambar Onion - Peeled', 'quantity': '200 g ', 'price': '29', 'date': '2020-09-25', 'location': 'Bangalore', 'source': 'Big_Basket'}, {'sku': 'Sprouts - Moong Green', 'quantity': '200 g ', 'price': '37', 'date': '2020-09-25', 'location': 'Bangalore', 'source': 'Big_Basket'}, {'sku': 'Ash Gourd - Cut', 'quantity': ' 250 g  - Rs 13.00500 g  - Rs 21.00 250 g  - Rs 13.00 ', 'price': '13', 'date': '2020-09-25', 'location': 'Bangalore', 'source': 'Big_Basket'}, {'sku': 'Lemon', 'quantity': '250 g ', 'price': '19.80', 'date': '2020-09-25', 'location': 'Bangalore', 'source': 'Big_Basket'}, {'sku': 'Coriander Leaves', 'quantity': ' 100 g  - Rs11.00', 'price': '11', 'date': '2020-09-25', 'location': 'Bangalore', 'source': 'Big_Basket'}, {'sku': 'Chilli\\xa0- Green Long Medium', 'quantity': ' 100 g  - Rs 7.43100 g  - Rs 7.43 250 g  - Rs 18.56 + 1  More Combo', 'price': '7.43', 'date': '2020-09-25', 'location': 'Bangalore', 'source': 'Big_Basket'}, {'sku': 'Ginger', 'quantity': ' 250 g  - Rs 22.28100 g  - Rs 13.00 250 g  - Rs 22.28 + 1  More Combo', 'price': '22.28', 'date': '2020-09-25', 'location': 'Bangalore', 'source': 'Big_Basket'}, {'sku': 'Ginger - Organically Grown', 'quantity': '100 g ', 'price': '14', 'date': '2020-09-25', 'location': 'Bangalore', 'source': 'Big_Basket'}, {'sku': 'Garlic', 'quantity': ' 250 g  - Rs44.75', 'price': '44.75', 'date': '2020-09-25', 'location': 'Bangalore', 'source': 'Big_Basket'}, {'sku': 'Methi 250 g + Coriander Leaves 100 g + Palak 250 g + Curry Leaves 100 g', 'quantity': 'Combo 4 Items', 'price': '82', 'date': '2020-09-25', 'location': 'Bangalore', 'source': 'Big_Basket'}, {'sku': 'Curry Leaves', 'quantity': ' 100 g  - Rs10.00', 'price': '10', 'date': '2020-09-25', 'location': 'Bangalore', 'source': 'Big_Basket'}, {'sku': 'Coriander Leaves 100 g + Garlic 250 g + Ginger 250 g + Chilli Green Long 250 g', 'quantity': 'Combo 4 Items', 'price': '96.59', 'date': '2020-09-25', 'location': 'Bangalore', 'source': 'Big_Basket'}, {'sku': 'Chilli - Green Organically Grown', 'quantity': '100 g ', 'price': '11', 'date': '2020-09-25', 'location': 'Bangalore', 'source': 'Big_Basket'}, {'sku': 'Garlic - Organically Grown', 'quantity': '250 g ', 'price': '60', 'date': '2020-09-25', 'location': 'Bangalore', 'source': 'Big_Basket'}, {'sku': 'Fresh Turmeric - Organically Grown', 'quantity': '250 g ', 'price': '16', 'date': '2020-09-25', 'location': 'Bangalore', 'source': 'Big_Basket'}, {'sku': 'Garlic - Peeled', 'quantity': ' 100 g  - Rs 42.00200 g  - Rs 65.00 100 g  - Rs 42.00 ', 'price': '42', 'date': '2020-09-25', 'location': 'Bangalore', 'source': 'Big_Basket'}, {'sku': 'Lemon Grass', 'quantity': '100 g ', 'price': '10', 'date': '2020-09-25', 'location': 'Bangalore', 'source': 'Big_Basket'}, {'sku': 'Neem Giloy (Amruta Balli) - Organically Grown', 'quantity': '100 g ', 'price': '22', 'date': '2020-09-25', 'location': 'Bangalore', 'source': 'Big_Basket'}, {'sku': 'Celery', 'quantity': '250 g ', 'price': '25', 'date': '2020-09-25', 'location': 'Bangalore', 'source': 'Big_Basket'}, {'sku': 'Parsley Leaves - Curly', 'quantity': '100 g ', 'price': '14', 'date': '2020-09-25', 'location': 'Bangalore', 'source': 'Big_Basket'}, {'sku': 'Chilli\\xa0- Bajji Mild', 'quantity': '250 g ', 'price': '19', 'date': '2020-09-25', 'location': 'Bangalore', 'source': 'Big_Basket'}, {'sku': 'Dill Leaves', 'quantity': '250 g ', 'price': '25', 'date': '2020-09-25', 'location': 'Bangalore', 'source': 'Big_Basket'}, {'sku': 'Thai Mix', 'quantity': '1 pc ', 'price': '100', 'date': '2020-09-25', 'location': 'Bangalore', 'source': 'Big_Basket'}, {'sku': 'Green Chilly - Chopped', 'quantity': '100 g ', 'price': '15', 'date': '2020-09-25', 'location': 'Bangalore', 'source': 'Big_Basket'}, {'sku': 'Swiss Chard - Multi Colored', 'quantity': '250 g ', 'price': '40', 'date': '2020-09-25', 'location': 'Bangalore', 'source': 'Big_Basket'}, {'sku': 'Rocket Leaves', 'quantity': '80-100 g ', 'price': '71', 'date': '2020-09-25', 'location': 'Bangalore', 'source': 'Big_Basket'}, {'sku': 'Basil - Thai Sweet', 'quantity': '10 g ', 'price': '17', 'date': '2020-09-25', 'location': 'Bangalore', 'source': 'Big_Basket'}, {'sku': 'Fennel', 'quantity': '250 g ', 'price': '46', 'date': '2020-09-25', 'location': 'Bangalore', 'source': 'Big_Basket'}]\n"
     ]
    }
   ],
   "source": [
    "from bs4 import BeautifulSoup as soup\n",
    "from selenium import webdriver\n",
    "from datetime import date\n",
    "import os.path\n",
    "from selenium.webdriver.common.keys import Keys\n",
    "from selenium.webdriver.common.action_chains import ActionChains\n",
    "import time\n",
    "import pandas as pd\n",
    "\n",
    "sku = 'sku_blah'\n",
    "quantity = 'quantity_blah'\n",
    "price = 'price_blah'\n",
    "location = 'Bangalore'\n",
    "source = 'Big_Basket'\n",
    "\n",
    "csvList = []\n",
    "csvDict = {\n",
    "        'sku': sku,\n",
    "        'quantity': quantity,\n",
    "        'price': price,\n",
    "        'date': date,\n",
    "        'location': location,\n",
    "        'source': source,\n",
    "}\n",
    "\n",
    "today = date.today()\n",
    "d1 = today.strftime(\"%Y-%m-%d\")\n",
    "date_1 = today.strftime(\"%d_%m_%Y\")\n",
    "\n",
    "if os.path.exists(r'b_b.csv') == True:\n",
    "    print('This file exists, not writing to the database')\n",
    "else:\n",
    "    print('This file does not exist and hence, writing to the database')\n",
    "    my_url  = [\"https://www.bigbasket.com/pc/fruits-vegetables/exotic-fruits-veggies/?nc\",\"https://www.bigbasket.com/pc/fruits-vegetables/fresh-fruits/?nc\",\n",
    "               \"https://www.bigbasket.com/pc/fruits-vegetables/fresh-vegetables/?nc\", \"https://www.bigbasket.com/pc/fruits-vegetables/herbs-seasonings/?nc\"]\n",
    "\n",
    "    browser = webdriver.Chrome( \"/home/subhankar/Downloads/chromedriver\" )\n",
    "\n",
    "    for url in my_url:\n",
    "        browser.get( url )\n",
    "        landing_page = browser.find_element_by_tag_name( \"html\" )\n",
    "        time.sleep(1)\n",
    "        browser.maximize_window()\n",
    "\n",
    "        location_selector = browser.find_element_by_xpath(\"//*[@id='headerControllerId']/header/div/div/div/div/ul/li[2]/div/a/i\").click()\n",
    "        locate_select = browser.find_element_by_xpath(\"//*[@id='headerControllerId']/header/div/div/div/div/ul/li[2]/div/div/div[2]/form/div[1]/div/div/span/i\")\n",
    "        locate_select.click()\n",
    "        locate_type = browser.find_element_by_xpath(\"//*[@id='headerControllerId']/header/div/div/div/div/ul/li[2]/div/div/div[2]/form/div[1]/div/input[1]\")\n",
    "        locate_type.send_keys(\"Bangalore\")\n",
    "        locate_type.send_keys(Keys.ENTER)\n",
    "        pincode_select = browser.find_element_by_xpath(\"//*[@id='headerControllerId']/header/div/div/div/div/ul/li[2]/div/div/div[2]/form/div[3]/button\").click()\n",
    "        browser.get(url)\n",
    "        scroll_down = browser.find_element_by_tag_name( \"html\" )\n",
    "\n",
    "        for i in range(0,5):\n",
    "            time.sleep( 1 )\n",
    "            scroll_down.send_keys( Keys.END )\n",
    "            \"\"\"\n",
    "            end_locator = browser.find_element_by_xpath(\"///*[@id='dynamicDirective']/product-deck/section/div[2]/div[4]/div[4]\")\n",
    "            browser.execute_script('arguments[0].scrollIntoView(true);', end_locator)\n",
    "            time.sleep(1)\n",
    "\n",
    "            print(i)\n",
    "            \"\"\"\n",
    "        #browser.execute_script(\"document.body.outerHTML.replace(',','');\")\n",
    "        res = browser.execute_script( \"return document.documentElement.outerHTML\" )\n",
    "        page_soup = soup( res, \"html.parser\" )\n",
    "        containers = page_soup.findAll( \"div\", {\"class\": \"item prod-deck row ng-scope\"})\n",
    "\n",
    "        for container in containers:\n",
    "            header = container.find(\"div\",{\"class\":\"col-sm-12 col-xs-7 prod-name\"})\n",
    "            head = header.find(\"a\",{\"class\":\"ng-binding\"}).text\n",
    "\n",
    "            quantity_container = container.find(\"div\",{\"class\":\"col-sm-12 col-xs-7 qnty-selection\"})\n",
    "            try:\n",
    "                quantity = quantity_container.find(\"span\",{\"class\":\"ng-scope\"}).text\n",
    "            except:\n",
    "                quantity = quantity_container.find(\"button\",{\"class\":\"btn btn-default dropdown-toggle form-control\"}).text\n",
    "\n",
    "            price_container = container.find(\"span\",{\"class\":\"discnt-price\"})\n",
    "            price = price_container.find(\"span\",{\"class\":\"ng-binding\"}).text\n",
    "            csvDict['sku'] = head.replace(',','')\n",
    "            csvDict['quantity'] = quantity.replace(',','')\n",
    "            csvDict['price'] = price.replace(',','')\n",
    "            csvDict['date'] = d1\n",
    "            csvDict['location'] = location\n",
    "            csvDict['source'] = source\n",
    "\n",
    "            csvList.append( csvDict.copy() )\n",
    "\n",
    "    print( \"the no of items is\", len( csvList ) )\n",
    "\n",
    "    print( csvList )\n",
    "    browser.close()\n",
    "\n",
    "\n",
    "    big_basket = open(\"Big_Basket_BNG_\" + date_1 + \".csv\", \"w\")\n",
    "\n",
    "    def write_to_csv(output):\n",
    "        with open(\"Big_Basket_BNG_\" + date_1 + \".csv\", \"w\",encoding=\"utf-8\") as f:\n",
    "            f.write(\"sku,price,Quantity,date,location,source\\n\")\n",
    "            for line in output:\n",
    "                f.write(f\"{line['sku']},{line['price']},{line['quantity']},{line['source']},{line['date']},{line['location']}\\n\")\n",
    "\n",
    "\n",
    "    big_basket.close()\n",
    "    write_to_csv(csvList)\n",
    "    df=pd.read_csv(\"Big_Basket_BNG_\" + date_1 + \".csv\")\n",
    "    df.to_csv(date_1+'.csv', mode='a', header=False,index=False)\n",
    "\n",
    "    "
   ]
  },
  {
   "cell_type": "code",
   "execution_count": 82,
   "metadata": {},
   "outputs": [],
   "source": [
    "df=pd.read_csv('/home/subhankar/Desktop/CV/Big_Basket_BNG_25_09_2020.csv')\n",
    "df_stable=df"
   ]
  },
  {
   "cell_type": "code",
   "execution_count": 83,
   "metadata": {},
   "outputs": [
    {
     "data": {
      "text/html": [
       "<div>\n",
       "<style scoped>\n",
       "    .dataframe tbody tr th:only-of-type {\n",
       "        vertical-align: middle;\n",
       "    }\n",
       "\n",
       "    .dataframe tbody tr th {\n",
       "        vertical-align: top;\n",
       "    }\n",
       "\n",
       "    .dataframe thead th {\n",
       "        text-align: right;\n",
       "    }\n",
       "</style>\n",
       "<table border=\"1\" class=\"dataframe\">\n",
       "  <thead>\n",
       "    <tr style=\"text-align: right;\">\n",
       "      <th></th>\n",
       "      <th>sku</th>\n",
       "      <th>price</th>\n",
       "      <th>Quantity</th>\n",
       "      <th>date</th>\n",
       "      <th>location</th>\n",
       "      <th>source</th>\n",
       "    </tr>\n",
       "  </thead>\n",
       "  <tbody>\n",
       "    <tr>\n",
       "      <th>79</th>\n",
       "      <td>Apple - Shimla</td>\n",
       "      <td>67.12</td>\n",
       "      <td>4 pcs (Approx. 500g-  650g) - Rs67.12</td>\n",
       "      <td>Big_Basket</td>\n",
       "      <td>2020-09-25</td>\n",
       "      <td>Bangalore</td>\n",
       "    </tr>\n",
       "    <tr>\n",
       "      <th>96</th>\n",
       "      <td>Mosambi</td>\n",
       "      <td>59.00</td>\n",
       "      <td>6 pcs 800 gm - 1 kg - Rs 59.004 pcs 700-900g ...</td>\n",
       "      <td>Big_Basket</td>\n",
       "      <td>2020-09-25</td>\n",
       "      <td>Bangalore</td>\n",
       "    </tr>\n",
       "    <tr>\n",
       "      <th>104</th>\n",
       "      <td>Pineapple</td>\n",
       "      <td>50.00</td>\n",
       "      <td>1 pc 750-800</td>\n",
       "      <td>Big_Basket</td>\n",
       "      <td>2020-09-25</td>\n",
       "      <td>Bangalore</td>\n",
       "    </tr>\n",
       "    <tr>\n",
       "      <th>111</th>\n",
       "      <td>Muskmelon - Organically Grown</td>\n",
       "      <td>55.00</td>\n",
       "      <td>1 pc (Approx. 600 g-1 kg)</td>\n",
       "      <td>Big_Basket</td>\n",
       "      <td>2020-09-25</td>\n",
       "      <td>Bangalore</td>\n",
       "    </tr>\n",
       "    <tr>\n",
       "      <th>254</th>\n",
       "      <td>Rocket Leaves</td>\n",
       "      <td>71.00</td>\n",
       "      <td>80-100 g</td>\n",
       "      <td>Big_Basket</td>\n",
       "      <td>2020-09-25</td>\n",
       "      <td>Bangalore</td>\n",
       "    </tr>\n",
       "  </tbody>\n",
       "</table>\n",
       "</div>"
      ],
      "text/plain": [
       "                               sku  price  \\\n",
       "79                  Apple - Shimla  67.12   \n",
       "96                         Mosambi  59.00   \n",
       "104                      Pineapple  50.00   \n",
       "111  Muskmelon - Organically Grown  55.00   \n",
       "254                  Rocket Leaves  71.00   \n",
       "\n",
       "                                              Quantity        date  \\\n",
       "79               4 pcs (Approx. 500g-  650g) - Rs67.12  Big_Basket   \n",
       "96    6 pcs 800 gm - 1 kg - Rs 59.004 pcs 700-900g ...  Big_Basket   \n",
       "104                                       1 pc 750-800  Big_Basket   \n",
       "111                          1 pc (Approx. 600 g-1 kg)  Big_Basket   \n",
       "254                                          80-100 g   Big_Basket   \n",
       "\n",
       "       location     source  \n",
       "79   2020-09-25  Bangalore  \n",
       "96   2020-09-25  Bangalore  \n",
       "104  2020-09-25  Bangalore  \n",
       "111  2020-09-25  Bangalore  \n",
       "254  2020-09-25  Bangalore  "
      ]
     },
     "execution_count": 83,
     "metadata": {},
     "output_type": "execute_result"
    }
   ],
   "source": [
    "l=[\"Cauliflower\",\"Lettuce - Green\",\"Lettuce - Red\",\"Lettuce - Romaine\",\"Apple - Royal Gala, Regular\",\"watermelon - small\"]\n",
    "df_pc=df[df['sku'].isin(l)]\n",
    "m=[\"Rocket Leaves\",\"Apple - Shimla\",\"Muskmelon - Organically Grown\",\"Mosambi\",\"Pineapple\"]\n",
    "df_dc=df[df['sku'].isin(m)]\n",
    "df=df[~df['sku'].isin(l+m)]\n",
    "df_dc\n"
   ]
  },
  {
   "cell_type": "code",
   "execution_count": 84,
   "metadata": {},
   "outputs": [
    {
     "name": "stderr",
     "output_type": "stream",
     "text": [
      "/home/subhankar/anaconda3/lib/python3.6/site-packages/ipykernel_launcher.py:1: SettingWithCopyWarning: \n",
      "A value is trying to be set on a copy of a slice from a DataFrame.\n",
      "Try using .loc[row_indexer,col_indexer] = value instead\n",
      "\n",
      "See the caveats in the documentation: http://pandas.pydata.org/pandas-docs/stable/indexing.html#indexing-view-versus-copy\n",
      "  \"\"\"Entry point for launching an IPython kernel.\n",
      "/home/subhankar/anaconda3/lib/python3.6/site-packages/ipykernel_launcher.py:2: SettingWithCopyWarning: \n",
      "A value is trying to be set on a copy of a slice from a DataFrame.\n",
      "Try using .loc[row_indexer,col_indexer] = value instead\n",
      "\n",
      "See the caveats in the documentation: http://pandas.pydata.org/pandas-docs/stable/indexing.html#indexing-view-versus-copy\n",
      "  \n"
     ]
    },
    {
     "data": {
      "text/plain": [
       "22      85.0 g\n",
       "37     125.0 g\n",
       "39      85.0 g\n",
       "159    500.0 g\n",
       "226     85.0 g\n",
       "Name: Quantity, dtype: object"
      ]
     },
     "execution_count": 84,
     "metadata": {},
     "output_type": "execute_result"
    }
   ],
   "source": [
    "df_pc['Quantity'] = df_pc.Quantity.astype(str).apply(lambda x: ([int(s) for s in x[:x.find(\"to\")+1].split() if s.isdigit()][-1]+[int(s) for s in x[x.find(\"to\")+1:].split() if s.isdigit()][0])/2)\n",
    "df_pc['Quantity']=df_pc['Quantity'].astype(str)+\" g\"\n",
    "df_pc['Quantity']"
   ]
  },
  {
   "cell_type": "code",
   "execution_count": 85,
   "metadata": {},
   "outputs": [
    {
     "name": "stderr",
     "output_type": "stream",
     "text": [
      "/home/subhankar/anaconda3/lib/python3.6/site-packages/ipykernel_launcher.py:1: SettingWithCopyWarning: \n",
      "A value is trying to be set on a copy of a slice from a DataFrame.\n",
      "Try using .loc[row_indexer,col_indexer] = value instead\n",
      "\n",
      "See the caveats in the documentation: http://pandas.pydata.org/pandas-docs/stable/indexing.html#indexing-view-versus-copy\n",
      "  \"\"\"Entry point for launching an IPython kernel.\n",
      "/home/subhankar/anaconda3/lib/python3.6/site-packages/ipykernel_launcher.py:2: SettingWithCopyWarning: \n",
      "A value is trying to be set on a copy of a slice from a DataFrame.\n",
      "Try using .loc[row_indexer,col_indexer] = value instead\n",
      "\n",
      "See the caveats in the documentation: http://pandas.pydata.org/pandas-docs/stable/indexing.html#indexing-view-versus-copy\n",
      "  \n"
     ]
    },
    {
     "data": {
      "text/plain": [
       "79       4 g\n",
       "96     800 g\n",
       "104    750 g\n",
       "111    600 g\n",
       "254     80 g\n",
       "Name: Quantity, dtype: object"
      ]
     },
     "execution_count": 85,
     "metadata": {},
     "output_type": "execute_result"
    }
   ],
   "source": [
    "df_dc['Quantity'] = df_dc.Quantity.astype(str).apply(lambda x:[int(s) for s in x[:x.find('-')].split() if s.isdigit()][-1] )\n",
    "df_dc['Quantity']=df_dc['Quantity'].astype(str)+\" g\"\n",
    "df_dc['Quantity']\n"
   ]
  },
  {
   "cell_type": "code",
   "execution_count": 86,
   "metadata": {},
   "outputs": [
    {
     "data": {
      "text/html": [
       "<div>\n",
       "<style scoped>\n",
       "    .dataframe tbody tr th:only-of-type {\n",
       "        vertical-align: middle;\n",
       "    }\n",
       "\n",
       "    .dataframe tbody tr th {\n",
       "        vertical-align: top;\n",
       "    }\n",
       "\n",
       "    .dataframe thead th {\n",
       "        text-align: right;\n",
       "    }\n",
       "</style>\n",
       "<table border=\"1\" class=\"dataframe\">\n",
       "  <thead>\n",
       "    <tr style=\"text-align: right;\">\n",
       "      <th></th>\n",
       "      <th>sku</th>\n",
       "      <th>price</th>\n",
       "      <th>Quantity</th>\n",
       "      <th>date</th>\n",
       "      <th>location</th>\n",
       "      <th>source</th>\n",
       "    </tr>\n",
       "  </thead>\n",
       "  <tbody>\n",
       "    <tr>\n",
       "      <th>165</th>\n",
       "      <td>Ridge Gourd</td>\n",
       "      <td>59.0</td>\n",
       "      <td>1 kg  - Rs 59.00500 g  - Rs 38.00 1 kg  - Rs ...</td>\n",
       "      <td>Big_Basket</td>\n",
       "      <td>2020-09-25</td>\n",
       "      <td>Bangalore</td>\n",
       "    </tr>\n",
       "  </tbody>\n",
       "</table>\n",
       "</div>"
      ],
      "text/plain": [
       "             sku  price                                           Quantity  \\\n",
       "165  Ridge Gourd   59.0   1 kg  - Rs 59.00500 g  - Rs 38.00 1 kg  - Rs ...   \n",
       "\n",
       "           date    location     source  \n",
       "165  Big_Basket  2020-09-25  Bangalore  "
      ]
     },
     "execution_count": 86,
     "metadata": {},
     "output_type": "execute_result"
    }
   ],
   "source": [
    "df=df.append(df_dc, ignore_index = True) \n",
    "df=df.append(df_pc, ignore_index = True) \n",
    "df[df['sku']==\"Ridge Gourd\"]"
   ]
  },
  {
   "cell_type": "code",
   "execution_count": 87,
   "metadata": {},
   "outputs": [],
   "source": [
    "df['Quantity'] = df.Quantity.astype(str).apply(lambda x: x.replace(x[0:x.find('%')+1],''))\n",
    "df['Quantity'] = df.Quantity.astype(str).apply(lambda x: x.replace(x[x.find('('):x.find(')')+1],''))\n",
    "df1 =  df['Quantity'].str.extract('(?P<a>\\d+\\.\\d+|\\d+)\\s*(?P<b>[A-Za-z%]*)')\n"
   ]
  },
  {
   "cell_type": "code",
   "execution_count": 88,
   "metadata": {},
   "outputs": [],
   "source": [
    "d = {'gm':0.001,'gr':0.001,'grams':0.001,'kg':1,'g':0.001,'unit':1,'units':1,'ml':1,'GM':0.001,'G':0.001,'Ml':1,'Gm':0.001,'gp':0.001,'Pb':0.001,'Pc':1,'Gpb':0.001,'pcs':1,'pc':1,'NaN':1,'':1,'nan':1,'GMS':0.001,'N':1,'PIECE': 1,'KG' :1,'Kg':1,'PIECES':1,'Bunch':1,'Items':1,'items':1,'Item':1,'item':1,'Bunches':1,'bunch':1,'Bunch':1}\n",
    "a = df1['a'].astype(float).mul(df1['b'].astype(str).map(d))\n",
    "df1['b']=df1['b'].replace(to_replace = ['g', 'gm','G','Gm','Gpb','Gp','Pb','GM','GMS','KG','Kg'], value = 'kg')\n",
    "df1['b']=df1['b'].replace(to_replace = ['N', 'PIECE','PIECES','unit','Pc','pc','pcs','Items'], value = 'units')\n",
    "df = df[df['price'] != 0]\n",
    "df['price']=(df['price']/a).round(2)\n",
    "df['Quantity']=\"1 \"+df1['b']\n",
    "df['Quantity'] = df['Quantity'].fillna(\"1 units\")"
   ]
  },
  {
   "cell_type": "code",
   "execution_count": 90,
   "metadata": {},
   "outputs": [
    {
     "data": {
      "text/html": [
       "<div>\n",
       "<style scoped>\n",
       "    .dataframe tbody tr th:only-of-type {\n",
       "        vertical-align: middle;\n",
       "    }\n",
       "\n",
       "    .dataframe tbody tr th {\n",
       "        vertical-align: top;\n",
       "    }\n",
       "\n",
       "    .dataframe thead th {\n",
       "        text-align: right;\n",
       "    }\n",
       "</style>\n",
       "<table border=\"1\" class=\"dataframe\">\n",
       "  <thead>\n",
       "    <tr style=\"text-align: right;\">\n",
       "      <th></th>\n",
       "      <th>sku</th>\n",
       "      <th>price</th>\n",
       "      <th>Quantity</th>\n",
       "      <th>date</th>\n",
       "      <th>location</th>\n",
       "      <th>source</th>\n",
       "    </tr>\n",
       "  </thead>\n",
       "  <tbody>\n",
       "    <tr>\n",
       "      <th>165</th>\n",
       "      <td>Ridge Gourd</td>\n",
       "      <td>59.0</td>\n",
       "      <td>1 kg</td>\n",
       "      <td>Big_Basket</td>\n",
       "      <td>2020-09-25</td>\n",
       "      <td>Bangalore</td>\n",
       "    </tr>\n",
       "  </tbody>\n",
       "</table>\n",
       "</div>"
      ],
      "text/plain": [
       "             sku  price Quantity        date    location     source\n",
       "165  Ridge Gourd   59.0     1 kg  Big_Basket  2020-09-25  Bangalore"
      ]
     },
     "execution_count": 90,
     "metadata": {},
     "output_type": "execute_result"
    }
   ],
   "source": [
    "df\n",
    "df[df['sku']==\"Ridge Gourd\"]"
   ]
  },
  {
   "cell_type": "code",
   "execution_count": 98,
   "metadata": {},
   "outputs": [
    {
     "data": {
      "text/html": [
       "<div>\n",
       "<style scoped>\n",
       "    .dataframe tbody tr th:only-of-type {\n",
       "        vertical-align: middle;\n",
       "    }\n",
       "\n",
       "    .dataframe tbody tr th {\n",
       "        vertical-align: top;\n",
       "    }\n",
       "\n",
       "    .dataframe thead th {\n",
       "        text-align: right;\n",
       "    }\n",
       "</style>\n",
       "<table border=\"1\" class=\"dataframe\">\n",
       "  <thead>\n",
       "    <tr style=\"text-align: right;\">\n",
       "      <th></th>\n",
       "      <th>Demand Name</th>\n",
       "      <th>Tally Sku</th>\n",
       "      <th>CM</th>\n",
       "      <th>BigBaksket SKU names</th>\n",
       "      <th>Price and quantity</th>\n",
       "    </tr>\n",
       "  </thead>\n",
       "  <tbody>\n",
       "  </tbody>\n",
       "</table>\n",
       "</div>"
      ],
      "text/plain": [
       "Empty DataFrame\n",
       "Columns: [Demand Name, Tally Sku, CM, BigBaksket SKU names, Price and quantity]\n",
       "Index: []"
      ]
     },
     "execution_count": 98,
     "metadata": {},
     "output_type": "execute_result"
    }
   ],
   "source": [
    "df_bb=pd.read_excel('Conversion.xlsx')\n",
    "df_bb\n",
    "df_bb[df_bb['BigBaksket SKU names']==\"Ridge Gourd\"]"
   ]
  },
  {
   "cell_type": "code",
   "execution_count": 92,
   "metadata": {},
   "outputs": [
    {
     "data": {
      "text/plain": [
       "{'Apple - Royal Gala': 'Apple - Royal Gala ',\n",
       " 'Apple - Shimla': 'Apple-Shimla Indian',\n",
       " 'Asparagus': 'Asparagus',\n",
       " 'Baby corn Peeled': 'Baby Corn (Peeled)',\n",
       " 'Banana - Robusta': 'Banana Robusta',\n",
       " 'Banana - Yelakki ': 'Banana Yelakki',\n",
       " 'Beetroot': 'Beetroot',\n",
       " 'Bitter Gourd': 'Bittergourd',\n",
       " 'Bottle Gourd': 'Bottlegourd',\n",
       " 'Brinjal - Bottle Shaped': 'Brinjal Bhartha',\n",
       " 'Brinjal - Varikatri': 'Brinjal Vari',\n",
       " 'Broccoli ': 'Broccoli',\n",
       " 'Broccoli Florets': 'Broccoli Florets',\n",
       " 'Mushrooms - Button': 'Button Mushroom',\n",
       " 'Capsicum - Green': 'Capsicum (Green)',\n",
       " 'Carrot - Local': 'Carrot (Local)',\n",
       " 'Cauliflower': 'Cauliflower',\n",
       " 'Celery': 'Celery',\n",
       " 'Tomato - Cherry': 'Cherry Tomato',\n",
       " 'Chinese Cabbage': 'Chinese Cabbage',\n",
       " 'Coccinia': 'Coccenea(Thondekkai)',\n",
       " 'Coconut - Medium': 'Coconut',\n",
       " 'Capsicum - Red': 'Color Capsicum - Red',\n",
       " 'Capsicum - Yellow': 'Color Capsicum - Yellow',\n",
       " 'Coriander Leaves': 'Coriander',\n",
       " 'Cucumber - Malabar,Organically Grown ': 'Cucumber malabar',\n",
       " 'Curry Leaves': 'Curry Leaves',\n",
       " 'Dill Leaves ': 'Dill Leaves',\n",
       " 'Cucumber - English': 'English Cucumber',\n",
       " '        ----------------': 'Galangal (Thai Ginger)',\n",
       " 'Garlic': 'Garlic whole',\n",
       " 'Ginger': 'Ginger',\n",
       " 'Amaranthus - Green': 'Green Amarantus',\n",
       " 'Chilli - Green Long,Medium': 'Green Chilly',\n",
       " 'Guava ': 'Guava',\n",
       " 'Beans - Haricot': 'Haricot Beans',\n",
       " 'Cucumber - Organically Grown': 'Hybrid Cucumber',\n",
       " 'Lattuce - Iceberg ': 'Iceberg Lettuce',\n",
       " 'Naturally Grown - Italian Basil seeds': 'Italian Basil',\n",
       " 'Kiwi - Green ': 'Kiwi 3nos pack',\n",
       " 'Lattuce - Green ': 'Leafy Lettuce Green',\n",
       " 'Leeks ': 'Leeks',\n",
       " 'Lemon ': 'Lemon',\n",
       " 'Lemon Grass': 'Lemon Grass',\n",
       " 'Lattuce - Red ': 'Lollo Rossa',\n",
       " 'Methi ': 'Methi',\n",
       " 'Mint Leaves': 'Mint',\n",
       " 'Muskmelon - Organically Grown': 'Muskmelon',\n",
       " 'Onion': 'Onion',\n",
       " 'Orange - Nagpur, Regular': 'Orange (Nagpur)',\n",
       " 'Orange - Imported': 'Orange Imported',\n",
       " 'Papaya - Medium ': 'Papaya',\n",
       " 'Parsley Leaves - Curly ': 'Parsley',\n",
       " 'Pineapple': 'Pineapple',\n",
       " 'Bok Choy - Hydroponically Grown': 'Pok Choi',\n",
       " 'Potato': 'Potato',\n",
       " 'Pumpkin -  Disco': 'Pumpkin Disco',\n",
       " ' ----------------': 'Tomato (Country)',\n",
       " 'Amaranthus - Red': 'Red Amarantus',\n",
       " 'Cabbage - Red': 'Red Cabbage',\n",
       " 'Ridge - Gourd': 'Ridgegourd',\n",
       " 'Rocket Leaves': 'Rocket',\n",
       " 'Lattuce - Romaine': 'Romaine Lettuce',\n",
       " 'Rosemary': 'Rosemary',\n",
       " 'Sapota ': 'Sapota',\n",
       " 'Snake Gourd ': 'Snakegourd',\n",
       " 'Palak': 'Spinach',\n",
       " 'Spring Onion ': 'Spring Onion',\n",
       " 'Sweet Lime - Organically Grown ': 'Sweetlime/Musambi',\n",
       " 'Thyme - Herb ': 'Thyme',\n",
       " 'Tomato - Hybrid': 'Tomato (Hybrid)',\n",
       " 'watermelon - small ': 'Watermelon',\n",
       " 'Chilli - Bajji, Mild': 'Yellow chilli bajji',\n",
       " 'Zucchini - Green ': 'Zucchini - Green',\n",
       " 'Zucchini - Yellow': 'Zucchini - Yellow'}"
      ]
     },
     "execution_count": 92,
     "metadata": {},
     "output_type": "execute_result"
    }
   ],
   "source": [
    "di=pd.Series(df_bb[\"Demand Name\"].values,index=df_bb[\"BigBaksket SKU names\"]).to_dict()\n",
    "di"
   ]
  },
  {
   "cell_type": "code",
   "execution_count": 93,
   "metadata": {},
   "outputs": [],
   "source": [
    "df[\"sku\"].replace(di, inplace=True)\n",
    "df_bb=df_bb.rename(columns={'Demand Name':'sku'})\n",
    "df=pd.merge(df_bb,df,on='sku',how='left')\n",
    "df=df[['sku','Tally Sku','CM','price']]\n",
    "df['price']=(df['price']*df['CM']).round(2)\n",
    "with pd.ExcelWriter('BB_Converted2Clover_Price',engine=\"openpyxl\") as writer:  \n",
    "    df.to_excel(writer, sheet_name='Sales_Price',engine='xlsxwriter',index=False )"
   ]
  },
  {
   "cell_type": "code",
   "execution_count": 95,
   "metadata": {},
   "outputs": [
    {
     "data": {
      "text/html": [
       "<div>\n",
       "<style scoped>\n",
       "    .dataframe tbody tr th:only-of-type {\n",
       "        vertical-align: middle;\n",
       "    }\n",
       "\n",
       "    .dataframe tbody tr th {\n",
       "        vertical-align: top;\n",
       "    }\n",
       "\n",
       "    .dataframe thead th {\n",
       "        text-align: right;\n",
       "    }\n",
       "</style>\n",
       "<table border=\"1\" class=\"dataframe\">\n",
       "  <thead>\n",
       "    <tr style=\"text-align: right;\">\n",
       "      <th></th>\n",
       "      <th>sku</th>\n",
       "      <th>Tally Sku</th>\n",
       "      <th>CM</th>\n",
       "      <th>price</th>\n",
       "    </tr>\n",
       "  </thead>\n",
       "  <tbody>\n",
       "    <tr>\n",
       "      <th>70</th>\n",
       "      <td>Ridgegourd</td>\n",
       "      <td>Ridgegourd</td>\n",
       "      <td>1.0</td>\n",
       "      <td>NaN</td>\n",
       "    </tr>\n",
       "  </tbody>\n",
       "</table>\n",
       "</div>"
      ],
      "text/plain": [
       "           sku   Tally Sku   CM  price\n",
       "70  Ridgegourd  Ridgegourd  1.0    NaN"
      ]
     },
     "execution_count": 95,
     "metadata": {},
     "output_type": "execute_result"
    }
   ],
   "source": [
    "df\n",
    "df[df['sku']==\"Ridgegourd\"]"
   ]
  },
  {
   "cell_type": "code",
   "execution_count": null,
   "metadata": {},
   "outputs": [],
   "source": []
  }
 ],
 "metadata": {
  "kernelspec": {
   "display_name": "Python 3",
   "language": "python",
   "name": "python3"
  },
  "language_info": {
   "codemirror_mode": {
    "name": "ipython",
    "version": 3
   },
   "file_extension": ".py",
   "mimetype": "text/x-python",
   "name": "python",
   "nbconvert_exporter": "python",
   "pygments_lexer": "ipython3",
   "version": "3.6.7"
  }
 },
 "nbformat": 4,
 "nbformat_minor": 2
}

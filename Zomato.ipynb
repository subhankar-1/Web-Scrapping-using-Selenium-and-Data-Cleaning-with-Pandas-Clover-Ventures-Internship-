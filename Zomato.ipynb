{
 "cells": [
  {
   "cell_type": "code",
   "execution_count": 19,
   "metadata": {},
   "outputs": [
    {
     "name": "stdout",
     "output_type": "stream",
     "text": [
      "1\n",
      "17\n"
     ]
    },
    {
     "ename": "AttributeError",
     "evalue": "'NoneType' object has no attribute 'string'",
     "output_type": "error",
     "traceback": [
      "\u001b[0;31m---------------------------------------------------------------------------\u001b[0m",
      "\u001b[0;31mAttributeError\u001b[0m                            Traceback (most recent call last)",
      "\u001b[0;32m<ipython-input-19-f2a0ed969ff3>\u001b[0m in \u001b[0;36m<module>\u001b[0;34m\u001b[0m\n\u001b[1;32m     54\u001b[0m             \u001b[0mcuisines\u001b[0m\u001b[0;34m=\u001b[0m\u001b[0;34m[\u001b[0m\u001b[0;34m''\u001b[0m\u001b[0;34m]\u001b[0m\u001b[0;34m\u001b[0m\u001b[0;34m\u001b[0m\u001b[0m\n\u001b[1;32m     55\u001b[0m         \u001b[0mzomato_dict\u001b[0m \u001b[0;34m=\u001b[0m \u001b[0;34m{\u001b[0m\u001b[0;34m}\u001b[0m\u001b[0;34m\u001b[0m\u001b[0;34m\u001b[0m\u001b[0m\n\u001b[0;32m---> 56\u001b[0;31m         \u001b[0mzomato_dict\u001b[0m\u001b[0;34m[\u001b[0m\u001b[0;34m\"restaurant_name\"\u001b[0m\u001b[0;34m]\u001b[0m \u001b[0;34m=\u001b[0m \u001b[0mhead_contain\u001b[0m\u001b[0;34m.\u001b[0m\u001b[0mstring\u001b[0m\u001b[0;34m.\u001b[0m\u001b[0mreplace\u001b[0m\u001b[0;34m(\u001b[0m \u001b[0;34m'\\n'\u001b[0m\u001b[0;34m,\u001b[0m \u001b[0;34m' '\u001b[0m \u001b[0;34m)\u001b[0m\u001b[0;34m\u001b[0m\u001b[0;34m\u001b[0m\u001b[0m\n\u001b[0m\u001b[1;32m     57\u001b[0m         \u001b[0mzomato_dict\u001b[0m\u001b[0;34m[\u001b[0m\u001b[0;34m\"locality\"\u001b[0m\u001b[0;34m]\u001b[0m \u001b[0;34m=\u001b[0m \u001b[0mlocality\u001b[0m\u001b[0;34m.\u001b[0m\u001b[0mstring\u001b[0m\u001b[0;34m.\u001b[0m\u001b[0mreplace\u001b[0m\u001b[0;34m(\u001b[0m \u001b[0;34m'\\n'\u001b[0m\u001b[0;34m,\u001b[0m \u001b[0;34m' '\u001b[0m \u001b[0;34m)\u001b[0m\u001b[0;34m\u001b[0m\u001b[0;34m\u001b[0m\u001b[0m\n\u001b[1;32m     58\u001b[0m         \u001b[0mzomato_dict\u001b[0m\u001b[0;34m[\u001b[0m\u001b[0;34m\"address\"\u001b[0m\u001b[0;34m]\u001b[0m \u001b[0;34m=\u001b[0m \u001b[0maddress\u001b[0m\u001b[0;34m.\u001b[0m\u001b[0mstring\u001b[0m\u001b[0;34m.\u001b[0m\u001b[0mreplace\u001b[0m\u001b[0;34m(\u001b[0m \u001b[0;34m'\\n'\u001b[0m\u001b[0;34m,\u001b[0m \u001b[0;34m' '\u001b[0m \u001b[0;34m)\u001b[0m\u001b[0;34m\u001b[0m\u001b[0;34m\u001b[0m\u001b[0m\n",
      "\u001b[0;31mAttributeError\u001b[0m: 'NoneType' object has no attribute 'string'"
     ]
    }
   ],
   "source": [
    "from bs4 import BeautifulSoup as soup\n",
    "from selenium import webdriver\n",
    "import pandas\n",
    "from datetime import date\n",
    "from selenium.webdriver.common.by import By\n",
    "from selenium.webdriver.support.ui import WebDriverWait\n",
    "from selenium.webdriver.support import expected_conditions as EC\n",
    "from lxml import html\n",
    "\n",
    "zomato_list = []\n",
    "page_one = int( 1 )\n",
    "today = date.today()\n",
    "d1 = today.strftime( \"%Y-%m-%d\" )\n",
    "date_1 = today.strftime( \"%d_%m_%Y\" )\n",
    "\n",
    "browser = webdriver.Chrome( \"/home/subhankar/Downloads/chromedriver\"  )\n",
    "browser.maximize_window()\n",
    "zomato_landing_page = \"https://www.zomato.com/bangalore/restaurants?page=1\"\n",
    "browser.get( zomato_landing_page )\n",
    "res = browser.execute_script( \"return document.documentElement.outerHTML\" )\n",
    "page_soup = soup( res, \"html.parser\" )\n",
    "page_range = page_soup.findAll( \"div\", {\"class\": \"col-l-4 mtop pagination-number\"} )[0].text\n",
    "page_no = page_range.split( \"of\" )[-1]\n",
    "total_page = int( page_no )\n",
    "\n",
    "for page in range(1,2):\n",
    "    print( page )\n",
    "    response = browser.get( \"https://www.zomato.com/bangalore/restaurants?page={}\".format( page ) )\n",
    "    res = browser.execute_script( \"return document.documentElement.outerHTML\" )\n",
    "    page_soup = soup( res, \"html.parser\" )\n",
    "    print(len(page_soup.find_all( \"div\", {'class': 'content'} )))\n",
    "    #search_list = page_soup.find_all( \"div\", {'id': 'orig-search-list'} )\n",
    "    #search_list = page_soup.find_all( \"div\", {'class': 'card  search-snippet-card  all_web_jumbo_click_track      search-card'} )\n",
    "    search_list = page_soup.find_all( \"div\", {'class': 'content'} )\n",
    "    #containers = search_list[0].find_all( \"div\", {'class': 'content'} )\n",
    "    #card  search-snippet-card  all_web_jumbo_click_track      search-card\n",
    "    #call_container = search_list[0].find_all( \"div\", {\"class\": \"ui three item menu search-result-action mt0\"} )\n",
    "\n",
    "    for i in range(0,15):\n",
    "        WebDriverWait(browser, 20).until(EC.element_to_be_clickable((By.XPATH, \"/html/body/section/div/div[2]/div[3]/div[2]/div/div[6]/div/div[1]/section/div[1]/div[3]/div[3]/div[1]/div/article/div[1]/div/div[2]/div[1]/div[1]/a[1]\")))\n",
    "        head_contain = search_list[i].find( \"a\", {\"data-result-type\": \"ResCard_Name\"} )\n",
    "\n",
    "        locality = search_list[i].find( \"b\" )\n",
    "\n",
    "        address = search_list[i].find( \"div\", {\"class\": \"col-m-16 search-result-address grey-text nowrap ln22\"} )\n",
    "\n",
    "        rest1 = search_list[i].find_all( \"div\", {'class': 'search-page-text clearfix row'} )\n",
    "        rest2 = search_list[i].find( \"span\", {'class': 'col-s-11 col-m-12 nowrap pl0'} )\n",
    "        try:\n",
    "            rest3 = rest2.find_all( \"a\" )\n",
    "            print(rest2)\n",
    "            cuisines = [e.string for e in rest3]\n",
    "        except:\n",
    "            cuisines=['']\n",
    "        zomato_dict = {}\n",
    "        zomato_dict[\"restaurant_name\"] = head_contain.string.replace( '\\n', ' ' )\n",
    "        zomato_dict[\"locality\"] = locality.string.replace( '\\n', ' ' )\n",
    "        zomato_dict[\"address\"] = address.string.replace( '\\n', ' ' )\n",
    "        #zomato_dict[\"cuisines\"] = cuisines\n",
    "        #zomato_dict[\"phone\"] = call_button_3.string.replace( '\\n', ' ' )\n",
    "        #print( zomato_dict[\"phone\"] )\n",
    "\n",
    "        print(zomato_dict[\"restaurant_name\"])\n",
    "        print( zomato_dict[\"locality\"]  )\n",
    "        print(zomato_dict[\"address\"])\n",
    "        #print(zomato_dict[\"cuisines\"])\n",
    "\n",
    "        zomato_list.append( zomato_dict )\n",
    "        \n",
    "df = pandas.DataFrame( zomato_list )\n",
    "df.to_csv( \"zomato_restaurants\" + date_1 + \".xlsx\" )"
   ]
  },
  {
   "cell_type": "code",
   "execution_count": 13,
   "metadata": {},
   "outputs": [
    {
     "data": {
      "text/html": [
       "<div>\n",
       "<style scoped>\n",
       "    .dataframe tbody tr th:only-of-type {\n",
       "        vertical-align: middle;\n",
       "    }\n",
       "\n",
       "    .dataframe tbody tr th {\n",
       "        vertical-align: top;\n",
       "    }\n",
       "\n",
       "    .dataframe thead th {\n",
       "        text-align: right;\n",
       "    }\n",
       "</style>\n",
       "<table border=\"1\" class=\"dataframe\">\n",
       "  <thead>\n",
       "    <tr style=\"text-align: right;\">\n",
       "      <th></th>\n",
       "    </tr>\n",
       "  </thead>\n",
       "  <tbody>\n",
       "  </tbody>\n",
       "</table>\n",
       "</div>"
      ],
      "text/plain": [
       "Empty DataFrame\n",
       "Columns: []\n",
       "Index: []"
      ]
     },
     "execution_count": 13,
     "metadata": {},
     "output_type": "execute_result"
    }
   ],
   "source": [
    "df"
   ]
  },
  {
   "cell_type": "code",
   "execution_count": null,
   "metadata": {},
   "outputs": [],
   "source": []
  }
 ],
 "metadata": {
  "kernelspec": {
   "display_name": "Python 3",
   "language": "python",
   "name": "python3"
  },
  "language_info": {
   "codemirror_mode": {
    "name": "ipython",
    "version": 3
   },
   "file_extension": ".py",
   "mimetype": "text/x-python",
   "name": "python",
   "nbconvert_exporter": "python",
   "pygments_lexer": "ipython3",
   "version": "3.6.7"
  }
 },
 "nbformat": 4,
 "nbformat_minor": 2
}
